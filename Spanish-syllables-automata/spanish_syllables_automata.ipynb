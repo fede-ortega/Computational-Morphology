{
  "nbformat": 4,
  "nbformat_minor": 0,
  "metadata": {
    "colab": {
      "provenance": []
    },
    "kernelspec": {
      "name": "python3",
      "display_name": "Python 3"
    },
    "language_info": {
      "name": "python"
    }
  },
  "cells": [
    {
      "cell_type": "markdown",
      "source": [
        "# Morfología y sintaxis computacional - Práctica Autómatas\n",
        "\n",
        "\n",
        "*   María del Pilar Llera Artero\n",
        "*   Federico Ortega Riba"
      ],
      "metadata": {
        "id": "q0QQLZHzjqj-"
      }
    },
    {
      "cell_type": "markdown",
      "source": [
        "**Objetivo**: construir un autómata finito en python que reconozca las sílabas del español."
      ],
      "metadata": {
        "id": "NXAVY2nUj7bb"
      }
    },
    {
      "cell_type": "code",
      "execution_count": null,
      "metadata": {
        "colab": {
          "base_uri": "https://localhost:8080/"
        },
        "id": "IhPE60AyqfFi",
        "outputId": "d565a078-e10e-406d-b5ce-c7f25905b4cf"
      },
      "outputs": [
        {
          "output_type": "stream",
          "name": "stdout",
          "text": [
            "Requirement already satisfied: pythomata in /usr/local/lib/python3.10/dist-packages (0.3.2)\n",
            "Requirement already satisfied: graphviz in /usr/local/lib/python3.10/dist-packages (from pythomata) (0.20.1)\n",
            "Requirement already satisfied: sympy in /usr/local/lib/python3.10/dist-packages (from pythomata) (1.12)\n",
            "Requirement already satisfied: mpmath>=0.19 in /usr/local/lib/python3.10/dist-packages (from sympy->pythomata) (1.3.0)\n"
          ]
        }
      ],
      "source": [
        "!pip install pythomata"
      ]
    },
    {
      "cell_type": "code",
      "source": [
        "from pythomata import SimpleDFA"
      ],
      "metadata": {
        "id": "OQ61nRfmub2j"
      },
      "execution_count": null,
      "outputs": []
    },
    {
      "cell_type": "code",
      "source": [
        "# Definición del autómata\n",
        "\n",
        "terminales = {\"a\", \"e\", \"i\", \"o\", \"u\", \"b\", \"c\", \"d\", \"f\", \"g\", \"h\", \"j\", \"k\", \"l\", \"m\", \"n\", \"ñ\", \"p\", \"r\", \"s\", \"t\", \"v\", \"w\", \"x\", \"y\", \"z\"}\n",
        "estados = {\"q0\", \"q1\", \"q2\", \"q3\", \"q4\", \"q5\"}\n",
        "estado_inicial = \"q0\"\n",
        "estados_finales = {\"q2\",\"q3\",\"q4\", \"q5\"}\n",
        "\n",
        "tabla_transicion = {\n",
        "    \"q0\": {\n",
        "        \"a\": \"q2\",\n",
        "        \"e\": \"q2\",\n",
        "        \"i\": \"q2\",\n",
        "        \"o\": \"q2\",\n",
        "        \"u\": \"q2\",\n",
        "        \"b\": \"q1\",\n",
        "        \"c\": \"q1\",\n",
        "        \"d\": \"q1\",\n",
        "        \"f\": \"q1\",\n",
        "        \"g\": \"q1\",\n",
        "        \"h\": \"q1\",\n",
        "        \"j\": \"q1\",\n",
        "        \"k\": \"q1\",\n",
        "        \"l\": \"q1\",\n",
        "        \"m\": \"q1\",\n",
        "        \"n\": \"q1\",\n",
        "        \"ñ\": \"q1\",\n",
        "        \"p\": \"q1\",\n",
        "        \"r\": \"q1\",\n",
        "        \"s\": \"q1\",\n",
        "        \"t\": \"q1\",\n",
        "        \"v\": \"q1\",\n",
        "        \"w\": \"q1\",\n",
        "        \"x\": \"q1\",\n",
        "        \"y\": \"q1\",\n",
        "        \"z\": \"q1\",\n",
        "        },\n",
        "    \"q1\":{\n",
        "        \"a\": \"q2\",\n",
        "        \"e\": \"q2\",\n",
        "        \"i\": \"q2\",\n",
        "        \"o\": \"q2\",\n",
        "        \"u\": \"q2\",\n",
        "        },\n",
        "    \"q2\":{\n",
        "        \"a\": \"q3\",\n",
        "        \"e\": \"q3\",\n",
        "        \"i\": \"q3\",\n",
        "        \"o\": \"q3\",\n",
        "        \"u\": \"q3\",\n",
        "        \"n\": \"q5\",\n",
        "        \"s\": \"q5\",\n",
        "        \"l\": \"q5\",\n",
        "        \"r\": \"q5\",\n",
        "    },\n",
        "    \"q3\":{\n",
        "        \"a\": \"q4\",\n",
        "        \"e\": \"q4\",\n",
        "        \"i\": \"q4\",\n",
        "        \"o\": \"q4\",\n",
        "        \"u\": \"q4\",\n",
        "        \"n\": \"q5\",\n",
        "        \"s\": \"q5\",\n",
        "        \"l\": \"q5\",\n",
        "        \"r\": \"q5\",\n",
        "        },\n",
        "    \"q4\":{\n",
        "        \"n\": \"q5\",\n",
        "        \"s\": \"q5\",\n",
        "        \"l\": \"q5\",\n",
        "        \"r\": \"q5\",\n",
        "        }\n",
        "    }\n",
        "\n",
        "dfa = SimpleDFA(estados, terminales, estado_inicial, estados_finales, tabla_transicion)"
      ],
      "metadata": {
        "id": "WO_y0JoU4u4a"
      },
      "execution_count": null,
      "outputs": []
    },
    {
      "cell_type": "markdown",
      "source": [
        "## Pruebas sobre el recocimiento de sílabas en español\n",
        "\n",
        "Vamos a considerar los puntos que se describen en la descripción de la práctica. Para verificar que el autómata funcione correctamente, le pasaremos como *input* nuestra batería de palabras, que se puede encontrar como fichero .txt dentro de la carpeta."
      ],
      "metadata": {
        "id": "BYTHZ6zIjpWu"
      }
    },
    {
      "cell_type": "markdown",
      "source": [
        "### Diptongos"
      ],
      "metadata": {
        "id": "FuwS9MNsF2Hq"
      }
    },
    {
      "cell_type": "code",
      "source": [
        "# cauto\n",
        "cadena_0 = \"cau\"\n",
        "dfa.accepts(cadena_0)"
      ],
      "metadata": {
        "colab": {
          "base_uri": "https://localhost:8080/"
        },
        "id": "m8fTp48U_l6Q",
        "outputId": "bfed67f8-31d0-4323-a159-cb42aa462920"
      },
      "execution_count": null,
      "outputs": [
        {
          "output_type": "execute_result",
          "data": {
            "text/plain": [
              "True"
            ]
          },
          "metadata": {},
          "execution_count": 6
        }
      ]
    },
    {
      "cell_type": "code",
      "source": [
        "# baile\n",
        "cadena_1 = \"bai\"\n",
        "dfa.accepts(cadena_1)"
      ],
      "metadata": {
        "colab": {
          "base_uri": "https://localhost:8080/"
        },
        "id": "NfmYJ0Vk_0PN",
        "outputId": "6ac53f78-c5ae-4a4e-9e19-7e5ef67eb54a"
      },
      "execution_count": null,
      "outputs": [
        {
          "output_type": "execute_result",
          "data": {
            "text/plain": [
              "True"
            ]
          },
          "metadata": {},
          "execution_count": 7
        }
      ]
    },
    {
      "cell_type": "code",
      "source": [
        "# emoción\n",
        "cadena_2 = \"cion\"\n",
        "dfa.accepts(cadena_2)"
      ],
      "metadata": {
        "colab": {
          "base_uri": "https://localhost:8080/"
        },
        "id": "vlOfTqzW_5OV",
        "outputId": "78bb1218-aa7c-492d-f99c-532dd2274bc0"
      },
      "execution_count": null,
      "outputs": [
        {
          "output_type": "execute_result",
          "data": {
            "text/plain": [
              "True"
            ]
          },
          "metadata": {},
          "execution_count": 8
        }
      ]
    },
    {
      "cell_type": "code",
      "source": [
        "# viuda\n",
        "cadena_3 = \"viu\"\n",
        "dfa.accepts(cadena_3)"
      ],
      "metadata": {
        "colab": {
          "base_uri": "https://localhost:8080/"
        },
        "id": "30IDjKp3_-PT",
        "outputId": "5f74fb88-2a18-4000-cbf2-db40193f5fcc"
      },
      "execution_count": null,
      "outputs": [
        {
          "output_type": "execute_result",
          "data": {
            "text/plain": [
              "True"
            ]
          },
          "metadata": {},
          "execution_count": 9
        }
      ]
    },
    {
      "cell_type": "code",
      "source": [
        "# laura\n",
        "cadena_4 = \"lau\"\n",
        "dfa.accepts(cadena_4)"
      ],
      "metadata": {
        "colab": {
          "base_uri": "https://localhost:8080/"
        },
        "id": "4BDxSQEkAENw",
        "outputId": "89ad35d2-586b-4266-99a2-e5a6fbc89586"
      },
      "execution_count": null,
      "outputs": [
        {
          "output_type": "execute_result",
          "data": {
            "text/plain": [
              "True"
            ]
          },
          "metadata": {},
          "execution_count": 10
        }
      ]
    },
    {
      "cell_type": "code",
      "source": [
        "# luis\n",
        "cadena_5 = \"luis\"\n",
        "dfa.accepts(cadena_5)"
      ],
      "metadata": {
        "colab": {
          "base_uri": "https://localhost:8080/"
        },
        "id": "4aVy7253AJI5",
        "outputId": "3d0ff583-d4e4-4d29-9da0-d61706bc2182"
      },
      "execution_count": null,
      "outputs": [
        {
          "output_type": "execute_result",
          "data": {
            "text/plain": [
              "True"
            ]
          },
          "metadata": {},
          "execution_count": 11
        }
      ]
    },
    {
      "cell_type": "code",
      "source": [
        "# primicia\n",
        "cadena_6 = \"cia\"\n",
        "dfa.accepts(cadena_6)"
      ],
      "metadata": {
        "colab": {
          "base_uri": "https://localhost:8080/"
        },
        "id": "jycqV77bBZ9m",
        "outputId": "6d8c8460-7328-425c-df21-3e59cc43797a"
      },
      "execution_count": null,
      "outputs": [
        {
          "output_type": "execute_result",
          "data": {
            "text/plain": [
              "True"
            ]
          },
          "metadata": {},
          "execution_count": 12
        }
      ]
    },
    {
      "cell_type": "code",
      "source": [
        "# veinte\n",
        "cadena_7 = \"vein\"\n",
        "dfa.accepts(cadena_7)"
      ],
      "metadata": {
        "colab": {
          "base_uri": "https://localhost:8080/"
        },
        "id": "j8o8yZpHEixe",
        "outputId": "db485087-f889-496f-d4ef-b2e9f0e2a8b9"
      },
      "execution_count": null,
      "outputs": [
        {
          "output_type": "execute_result",
          "data": {
            "text/plain": [
              "True"
            ]
          },
          "metadata": {},
          "execution_count": 13
        }
      ]
    },
    {
      "cell_type": "code",
      "source": [
        "# boina\n",
        "cadena_8 = \"boi\"\n",
        "dfa.accepts(cadena_8)"
      ],
      "metadata": {
        "colab": {
          "base_uri": "https://localhost:8080/"
        },
        "outputId": "d797fec3-6a89-4898-865f-ddca1de783ec",
        "id": "HsPiwHg4Gccd"
      },
      "execution_count": null,
      "outputs": [
        {
          "output_type": "execute_result",
          "data": {
            "text/plain": [
              "True"
            ]
          },
          "metadata": {},
          "execution_count": 14
        }
      ]
    },
    {
      "cell_type": "code",
      "source": [
        "# lourdes\n",
        "cadena_9 = \"lour\"\n",
        "dfa.accepts(cadena_9)"
      ],
      "metadata": {
        "colab": {
          "base_uri": "https://localhost:8080/"
        },
        "outputId": "2ede3b92-b009-43e2-f5d3-6eb92dd468d0",
        "id": "kCBm6glAGg-_"
      },
      "execution_count": null,
      "outputs": [
        {
          "output_type": "execute_result",
          "data": {
            "text/plain": [
              "True"
            ]
          },
          "metadata": {},
          "execution_count": 15
        }
      ]
    },
    {
      "cell_type": "markdown",
      "source": [
        "### Triptongos"
      ],
      "metadata": {
        "id": "e7Eyv4v-G4UR"
      }
    },
    {
      "cell_type": "code",
      "source": [
        "# guau\n",
        "cadena_10 = \"guau\"\n",
        "dfa.accepts(cadena_10)"
      ],
      "metadata": {
        "colab": {
          "base_uri": "https://localhost:8080/"
        },
        "outputId": "32aa0e3e-cdf7-4ba2-8108-7d215489b721",
        "id": "UVJzfJDLG6vn"
      },
      "execution_count": null,
      "outputs": [
        {
          "output_type": "execute_result",
          "data": {
            "text/plain": [
              "True"
            ]
          },
          "metadata": {},
          "execution_count": 16
        }
      ]
    },
    {
      "cell_type": "code",
      "source": [
        "# limpiáis\n",
        "cadena_11 = \"piais\"\n",
        "dfa.accepts(cadena_11)"
      ],
      "metadata": {
        "colab": {
          "base_uri": "https://localhost:8080/"
        },
        "outputId": "a5504d7e-2a61-4525-b2c6-8eeac8f84c6f",
        "id": "o7yLcXuoG62W"
      },
      "execution_count": null,
      "outputs": [
        {
          "output_type": "execute_result",
          "data": {
            "text/plain": [
              "True"
            ]
          },
          "metadata": {},
          "execution_count": 17
        }
      ]
    },
    {
      "cell_type": "code",
      "source": [
        "# fiais\n",
        "cadena_12 = \"fiais\"\n",
        "dfa.accepts(cadena_12)"
      ],
      "metadata": {
        "colab": {
          "base_uri": "https://localhost:8080/"
        },
        "outputId": "f5978410-8148-43df-c194-c92607e0abe3",
        "id": "07Uk7YYNG65V"
      },
      "execution_count": null,
      "outputs": [
        {
          "output_type": "execute_result",
          "data": {
            "text/plain": [
              "True"
            ]
          },
          "metadata": {},
          "execution_count": 18
        }
      ]
    },
    {
      "cell_type": "code",
      "source": [
        "# bioinformática\n",
        "cadena_13 = \"bioin\"\n",
        "dfa.accepts(cadena_13)"
      ],
      "metadata": {
        "colab": {
          "base_uri": "https://localhost:8080/"
        },
        "outputId": "6993edc5-7385-4406-ac2e-6981758196b1",
        "id": "54G6aJr-G68N"
      },
      "execution_count": null,
      "outputs": [
        {
          "output_type": "execute_result",
          "data": {
            "text/plain": [
              "True"
            ]
          },
          "metadata": {},
          "execution_count": 19
        }
      ]
    },
    {
      "cell_type": "code",
      "source": [
        "# semiautomático\n",
        "cadena_14 = \"miau\"\n",
        "dfa.accepts(cadena_14)"
      ],
      "metadata": {
        "colab": {
          "base_uri": "https://localhost:8080/"
        },
        "outputId": "4d339ab9-6a6e-4234-b076-c74f037d308d",
        "id": "ZcGNmcuIHepk"
      },
      "execution_count": null,
      "outputs": [
        {
          "output_type": "execute_result",
          "data": {
            "text/plain": [
              "True"
            ]
          },
          "metadata": {},
          "execution_count": 20
        }
      ]
    },
    {
      "cell_type": "markdown",
      "source": [
        "### Sílabas sin ataque ni coda"
      ],
      "metadata": {
        "id": "cyHjIa7NHlUL"
      }
    },
    {
      "cell_type": "code",
      "source": [
        "# amor\n",
        "cadena_15 = \"a\"\n",
        "dfa.accepts(cadena_15)"
      ],
      "metadata": {
        "colab": {
          "base_uri": "https://localhost:8080/"
        },
        "outputId": "f42fc641-93d1-4adf-f6ed-b0164d023ffc",
        "id": "mDZGlD3bHewe"
      },
      "execution_count": null,
      "outputs": [
        {
          "output_type": "execute_result",
          "data": {
            "text/plain": [
              "True"
            ]
          },
          "metadata": {},
          "execution_count": 21
        }
      ]
    },
    {
      "cell_type": "code",
      "source": [
        "# ejemplo\n",
        "cadena_16 = \"e\"\n",
        "dfa.accepts(cadena_16)"
      ],
      "metadata": {
        "colab": {
          "base_uri": "https://localhost:8080/"
        },
        "outputId": "965569ea-7f4c-4839-f10e-685804d5a2f3",
        "id": "YT2ADWZwHtEv"
      },
      "execution_count": null,
      "outputs": [
        {
          "output_type": "execute_result",
          "data": {
            "text/plain": [
              "True"
            ]
          },
          "metadata": {},
          "execution_count": 22
        }
      ]
    },
    {
      "cell_type": "markdown",
      "source": [
        "### Sílabas que no debería reconocer"
      ],
      "metadata": {
        "id": "TDScn_fVHxNE"
      }
    },
    {
      "cell_type": "code",
      "source": [
        "# trans\n",
        "cadena_17 = \"trans\"\n",
        "dfa.accepts(cadena_17)"
      ],
      "metadata": {
        "colab": {
          "base_uri": "https://localhost:8080/"
        },
        "outputId": "6eb41e90-1a6a-436a-c55b-df5f054beece",
        "id": "mPr3JQgtH1Xu"
      },
      "execution_count": null,
      "outputs": [
        {
          "output_type": "execute_result",
          "data": {
            "text/plain": [
              "False"
            ]
          },
          "metadata": {},
          "execution_count": 23
        }
      ]
    },
    {
      "cell_type": "code",
      "source": [
        "# constancia\n",
        "cadena_18 = \"cons\"\n",
        "dfa.accepts(cadena_18)"
      ],
      "metadata": {
        "colab": {
          "base_uri": "https://localhost:8080/"
        },
        "outputId": "d8f606dd-8cce-4f5c-c0f9-9756db6447eb",
        "id": "6SyHRquCH1qD"
      },
      "execution_count": null,
      "outputs": [
        {
          "output_type": "execute_result",
          "data": {
            "text/plain": [
              "False"
            ]
          },
          "metadata": {},
          "execution_count": 24
        }
      ]
    }
  ]
}